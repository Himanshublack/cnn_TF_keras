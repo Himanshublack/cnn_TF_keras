{
  "nbformat": 4,
  "nbformat_minor": 0,
  "metadata": {
    "colab": {
      "provenance": [],
      "gpuType": "T4"
    },
    "kernelspec": {
      "name": "python3",
      "display_name": "Python 3"
    },
    "language_info": {
      "name": "python"
    },
    "accelerator": "GPU"
  },
  "cells": [
    {
      "cell_type": "markdown",
      "source": [
        "# CNN with Tensorflow Keras"
      ],
      "metadata": {
        "id": "d-OxOPkmwZXO"
      }
    },
    {
      "cell_type": "code",
      "source": [
        "# loading the data from the keras MNIST\n",
        "from tensorflow.keras.datasets import mnist\n",
        "(x_train, y_train), (x_test, y_test) = mnist.load_data()"
      ],
      "metadata": {
        "colab": {
          "base_uri": "https://localhost:8080/"
        },
        "id": "uiogEhPvwlXN",
        "outputId": "c00f16a1-819c-470d-8d01-9e12ba19f095"
      },
      "execution_count": null,
      "outputs": [
        {
          "output_type": "stream",
          "name": "stdout",
          "text": [
            "Downloading data from https://storage.googleapis.com/tensorflow/tf-keras-datasets/mnist.npz\n",
            "11490434/11490434 [==============================] - 0s 0us/step\n"
          ]
        }
      ]
    },
    {
      "cell_type": "code",
      "source": [
        "from tensorflow.python.client import device_lib\n",
        "print(device_lib.list_local_devices())"
      ],
      "metadata": {
        "colab": {
          "base_uri": "https://localhost:8080/"
        },
        "id": "d-zoWuBCw8rW",
        "outputId": "5bedb188-dac4-4fd4-c8c2-fa897b367af0"
      },
      "execution_count": null,
      "outputs": [
        {
          "output_type": "stream",
          "name": "stdout",
          "text": [
            "[name: \"/device:CPU:0\"\n",
            "device_type: \"CPU\"\n",
            "memory_limit: 268435456\n",
            "locality {\n",
            "}\n",
            "incarnation: 3975566872298196508\n",
            "xla_global_id: -1\n",
            ", name: \"/device:GPU:0\"\n",
            "device_type: \"GPU\"\n",
            "memory_limit: 14328594432\n",
            "locality {\n",
            "  bus_id: 1\n",
            "  links {\n",
            "  }\n",
            "}\n",
            "incarnation: 308070773161651253\n",
            "physical_device_desc: \"device: 0, name: Tesla T4, pci bus id: 0000:00:04.0, compute capability: 7.5\"\n",
            "xla_global_id: 416903419\n",
            "]\n"
          ]
        }
      ]
    },
    {
      "cell_type": "markdown",
      "source": [
        "# Inspecting the dataset"
      ],
      "metadata": {
        "id": "rtvtxJcN0txx"
      }
    },
    {
      "cell_type": "code",
      "source": [
        " print(\"Intital shape of dimensions of x_train\", str(x_train.shape))\n",
        "\n",
        " print(\"training samples\" + str(len(x_train)))\n",
        " print(\"labels training\" + str(len(y_train)))\n",
        " print(\"samples of x_test:\"+ str(len(x_test)))\n",
        " print(\"Labels in test: \"+ str(len(y_test)))\n",
        "\n",
        "print('\\n')\n",
        "print(\"Dimensions of x_train: \"+ str(x_train[0].shape))\n",
        "print(\"Labels in x_train: \"+ str(y_train.shape))\n",
        "print(\"\\n\")\n",
        "print(\"Dimensions of x_test:\" +str(x_test[0].shape))\n",
        "print(\"Labels in y_test:\"+ str(y_test.shape))"
      ],
      "metadata": {
        "colab": {
          "base_uri": "https://localhost:8080/"
        },
        "id": "G7DHumC9000U",
        "outputId": "3a147423-01b7-45ec-e0fd-02960b68f730"
      },
      "execution_count": null,
      "outputs": [
        {
          "output_type": "stream",
          "name": "stdout",
          "text": [
            "Intital shape of dimensions of x_train (60000, 28, 28)\n",
            "training samples60000\n",
            "labels training60000\n",
            "samples of x_test:10000\n",
            "Labels in test: 10000\n",
            "\n",
            "\n",
            "Dimensions of x_train: (28, 28)\n",
            "Labels in x_train: (60000,)\n",
            "\n",
            "\n",
            "Dimensions of x_test:(28, 28)\n",
            "Labels in y_test:(10000,)\n"
          ]
        }
      ]
    },
    {
      "cell_type": "code",
      "source": [
        "import cv2\n",
        "import numpy as np\n",
        "from matplotlib import pyplot as plt\n",
        "from pylab import *\n",
        "\n",
        "def imshow(title, image= None, size= 6):\n",
        "  if image.any():\n",
        "    w, h = image.shape[0], image.shape[1]\n",
        "    aspect_ratio = w/h\n",
        "    plt.figure(figsize= (size* aspect_ratio, size))\n",
        "    plt.imshow(cv2.cvtColor(image, cv2.COLOR_BGR2RGB))\n",
        "    plt.title(title)\n",
        "    plt.show()\n",
        "  else:\n",
        "    print(\"<<<< Image not found >>>>\")\n",
        "\n",
        "for i in range(0, 4):\n",
        "  random_num = np.random.randint(0, len(x_train))\n",
        "  img = x_train[random_num]\n",
        "  imshow(\"Sample\", img, size=2)"
      ],
      "metadata": {
        "colab": {
          "base_uri": "https://localhost:8080/",
          "height": 897
        },
        "id": "2fmN9n8u2gKP",
        "outputId": "b53d7e3d-c413-4b12-a0af-88da00bb4a88"
      },
      "execution_count": null,
      "outputs": [
        {
          "output_type": "display_data",
          "data": {
            "text/plain": [
              "<Figure size 200x200 with 1 Axes>"
            ],
            "image/png": "[encoded data removed]"
          },
          "metadata": {}
        },
        {
          "output_type": "display_data",
          "data": {
            "text/plain": [
              "<Figure size 200x200 with 1 Axes>"
            ],
            "image/png": "[encoded data removed]"
          },
          "metadata": {}
        },
        {
          "output_type": "display_data",
          "data": {
            "text/plain": [
              "<Figure size 200x200 with 1 Axes>"
            ],
            "image/png": "[encoded data removed]"
          },
          "metadata": {}
        },
        {
          "output_type": "display_data",
          "data": {
            "text/plain": [
              "<Figure size 200x200 with 1 Axes>"
            ],
            "image/png": "[encoded data removed]"
          },
          "metadata": {}
        }
      ]
    },
    {
      "cell_type": "markdown",
      "source": [
        "### lets do the same thing but using matplotlib"
      ],
      "metadata": {
        "id": "HMuGRM-tMIeS"
      }
    },
    {
      "cell_type": "code",
      "source": [
        "import matplotlib.pyplot as plt\n",
        "figure = plt.figure()\n",
        "plt.figure(figsize = (16, 10))\n",
        "\n",
        "number_of_images = 50\n",
        "for index in range (1 , number_of_images+1):\n",
        "  plt.subplot(5, 10, index).set_title(f'{y_train[index]}')\n",
        "  plt.axis('off')\n",
        "  plt.imshow(x_train[index], cmap= 'gray_r')"
      ],
      "metadata": {
        "colab": {
          "base_uri": "https://localhost:8080/",
          "height": 728
        },
        "id": "FEG3D9Xb4aal",
        "outputId": "80733f8f-3980-4018-a18f-9963e3c33060"
      },
      "execution_count": null,
      "outputs": [
        {
          "output_type": "display_data",
          "data": {
            "text/plain": [
              "<Figure size 640x480 with 0 Axes>"
            ]
          },
          "metadata": {}
        },
        {
          "output_type": "display_data",
          "data": {
            "text/plain": [
              "<Figure size 1600x1000 with 50 Axes>"
            ],
            "image/png": "[encoded data removed]"
          },
          "metadata": {}
        }
      ]
    },
    {
      "cell_type": "code",
      "source": [
        "# storing the rows and columns\n",
        "img_rows = x_train[0].shape[0]\n",
        "img_cols = x_train[0].shape[1]\n",
        "\n",
        "# changing the dimension of the data and adding 4 th dimension\n",
        "x_train = x_train.reshape(x_train.shape[0], img_rows, img_cols, 1)\n",
        "x_test = x_test.reshape(x_test.shape[0], img_rows, img_cols, 1)\n",
        "\n",
        "input_shape = (img_rows, img_cols, 1)\n",
        "\n",
        "x_train = x_train.astype('float32') # converting to float 32 as it was uint8 originally\n",
        "x_test = x_test.astype('float32')\n",
        "\n",
        "x_train /= 255.0\n",
        "x_test /= 255.0 # normalize 0-255 into 1 and 0\n",
        "\n",
        "print('x_train shape:', x_train.shape)\n",
        "print(x_train.shape[0], 'train_samples')\n",
        "print(x_test.shape[0], 'test_samples')\n"
      ],
      "metadata": {
        "colab": {
          "base_uri": "https://localhost:8080/"
        },
        "id": "_UUaPVknNk60",
        "outputId": "cd8b56bd-45be-4d22-d108-3793ec57cf5f"
      },
      "execution_count": null,
      "outputs": [
        {
          "output_type": "stream",
          "name": "stdout",
          "text": [
            "x_train shape: (60000, 28, 28, 1)\n",
            "60000 train_samples\n",
            "10000 test_samples\n"
          ]
        }
      ]
    },
    {
      "cell_type": "markdown",
      "source": [
        "# one hot encoding"
      ],
      "metadata": {
        "id": "8ptkOhj5TTAd"
      }
    },
    {
      "cell_type": "code",
      "source": [
        "from tensorflow.keras.utils import to_categorical\n",
        "# Now one hot encode input\n",
        "\n",
        "y_train = to_categorical(y_train)\n",
        "y_test = to_categorical(y_test)\n",
        "print(\"Number of classes \" + str(y_test.shape[1]))\n",
        "num_classes = y_test.shape[1]\n",
        "num_pixels = y_train.shape * x_train.shape[2]"
      ],
      "metadata": {
        "colab": {
          "base_uri": "https://localhost:8080/"
        },
        "id": "nPAIiJ4ERp1H",
        "outputId": "ec64bf18-cade-4cb6-9525-c843280f9f06"
      },
      "execution_count": null,
      "outputs": [
        {
          "output_type": "stream",
          "name": "stdout",
          "text": [
            "Number of classes 10\n"
          ]
        }
      ]
    },
    {
      "cell_type": "code",
      "source": [
        "y_train[0]"
      ],
      "metadata": {
        "colab": {
          "base_uri": "https://localhost:8080/"
        },
        "id": "v_SxddQVTfXZ",
        "outputId": "51462d32-a6a8-47ce-fa1a-86071839124d"
      },
      "execution_count": null,
      "outputs": [
        {
          "output_type": "execute_result",
          "data": {
            "text/plain": [
              "array([0., 0., 0., 0., 0., 1., 0., 0., 0., 0.], dtype=float32)"
            ]
          },
          "metadata": {},
          "execution_count": 9
        }
      ]
    },
    {
      "cell_type": "code",
      "source": [
        "from tensorflow.keras.models import Sequential\n",
        "from tensorflow.keras.layers import Dense, Dropout, Flatten\n",
        "from tensorflow.keras.layers import Conv2D, MaxPooling2D\n",
        "from tensorflow.keras import backend as K\n",
        "from tensorflow.keras.optimizers import SGD\n",
        "\n",
        "model = Sequential()\n",
        "model.add(Conv2D(32, kernel_size = (3, 3), activation = 'relu', input_shape= input_shape))\n",
        "model.add(Conv2D(64, (3, 3), activation = 'relu'))\n",
        "model.add(MaxPooling2D(pool_size= (2, 2)))\n",
        "model.add(Flatten())\n",
        "model.add(Dense(num_classes, activation = 'softmax'))\n",
        "model.compile(loss = 'categorical_crossentropy',\n",
        "              optimizer = SGD(0.001),\n",
        "              metrics = ['accuracy'])\n",
        "print(model.summary())"
      ],
      "metadata": {
        "id": "V245P2O7UfbC",
        "colab": {
          "base_uri": "https://localhost:8080/"
        },
        "outputId": "c0511b1f-0a69-4299-9633-4609f85e672d"
      },
      "execution_count": null,
      "outputs": [
        {
          "output_type": "stream",
          "name": "stdout",
          "text": [
            "Model: \"sequential\"\n",
            "_________________________________________________________________\n",
            " Layer (type)                Output Shape              Param #   \n",
            "=================================================================\n",
            " conv2d (Conv2D)             (None, 26, 26, 32)        320       \n",
            "                                                                 \n",
            " conv2d_1 (Conv2D)           (None, 24, 24, 64)        18496     \n",
            "                                                                 \n",
            " max_pooling2d (MaxPooling2D  (None, 12, 12, 64)       0         \n",
            " )                                                               \n",
            "                                                                 \n",
            " flatten (Flatten)           (None, 9216)              0         \n",
            "                                                                 \n",
            " dense (Dense)               (None, 10)                92170     \n",
            "                                                                 \n",
            "=================================================================\n",
            "Total params: 110,986\n",
            "Trainable params: 110,986\n",
            "Non-trainable params: 0\n",
            "_________________________________________________________________\n",
            "None\n"
          ]
        }
      ]
    },
    {
      "cell_type": "code",
      "source": [
        "y_test.shape"
      ],
      "metadata": {
        "colab": {
          "base_uri": "https://localhost:8080/"
        },
        "id": "TqxQZYe-a1MA",
        "outputId": "d5f6e54b-34c0-43c2-bd40-3263ffcdcc7e"
      },
      "execution_count": null,
      "outputs": [
        {
          "output_type": "execute_result",
          "data": {
            "text/plain": [
              "(10000, 10)"
            ]
          },
          "metadata": {},
          "execution_count": 11
        }
      ]
    },
    {
      "cell_type": "code",
      "source": [
        "batch_size = 128\n",
        "epoch = 100\n",
        "\n",
        "history = model.fit(\n",
        "    x_train,\n",
        "    y_train,\n",
        "    batch_size = batch_size,\n",
        "    epochs = epoch,\n",
        "    verbose = 1,\n",
        "    validation_data = (x_test, y_test)\n",
        ")\n",
        "score = model.evaluate(x_test, y_test, verbose = 0)\n",
        "print('Test_loss: ', score[0])\n",
        "print('Test_accuracy: ', score[1])"
      ],
      "metadata": {
        "colab": {
          "base_uri": "https://localhost:8080/"
        },
        "id": "qxwrbypda3uW",
        "outputId": "2e41cac6-9e8b-4cb2-f5ca-e72cab9d6bda"
      },
      "execution_count": null,
      "outputs": [
        {
          "output_type": "stream",
          "name": "stdout",
          "text": [
            "Epoch 1/100\n",
            "469/469 [==============================] - 13s 8ms/step - loss: 2.1936 - accuracy: 0.3874 - val_loss: 2.0276 - val_accuracy: 0.6493\n",
            "Epoch 2/100\n",
            "469/469 [==============================] - 3s 7ms/step - loss: 1.5772 - accuracy: 0.7349 - val_loss: 0.9844 - val_accuracy: 0.8114\n",
            "Epoch 3/100\n",
            "469/469 [==============================] - 3s 7ms/step - loss: 0.7193 - accuracy: 0.8301 - val_loss: 0.5278 - val_accuracy: 0.8630\n",
            "Epoch 4/100\n",
            "469/469 [==============================] - 3s 7ms/step - loss: 0.4911 - accuracy: 0.8659 - val_loss: 0.4219 - val_accuracy: 0.8838\n",
            "Epoch 5/100\n",
            "469/469 [==============================] - 3s 7ms/step - loss: 0.4217 - accuracy: 0.8804 - val_loss: 0.3770 - val_accuracy: 0.8942\n",
            "Epoch 6/100\n",
            "469/469 [==============================] - 3s 7ms/step - loss: 0.3889 - accuracy: 0.8876 - val_loss: 0.3544 - val_accuracy: 0.9015\n",
            "Epoch 7/100\n",
            "469/469 [==============================] - 3s 7ms/step - loss: 0.3696 - accuracy: 0.8933 - val_loss: 0.3399 - val_accuracy: 0.9054\n",
            "Epoch 8/100\n",
            "469/469 [==============================] - 3s 7ms/step - loss: 0.3565 - accuracy: 0.8962 - val_loss: 0.3296 - val_accuracy: 0.9077\n",
            "Epoch 9/100\n",
            "469/469 [==============================] - 3s 7ms/step - loss: 0.3469 - accuracy: 0.8989 - val_loss: 0.3221 - val_accuracy: 0.9087\n",
            "Epoch 10/100\n",
            "469/469 [==============================] - 3s 7ms/step - loss: 0.3395 - accuracy: 0.9017 - val_loss: 0.3178 - val_accuracy: 0.9091\n",
            "Epoch 11/100\n",
            "469/469 [==============================] - 3s 7ms/step - loss: 0.3332 - accuracy: 0.9029 - val_loss: 0.3093 - val_accuracy: 0.9120\n",
            "Epoch 12/100\n",
            "469/469 [==============================] - 3s 7ms/step - loss: 0.3278 - accuracy: 0.9050 - val_loss: 0.3063 - val_accuracy: 0.9112\n",
            "Epoch 13/100\n",
            "469/469 [==============================] - 3s 7ms/step - loss: 0.3233 - accuracy: 0.9060 - val_loss: 0.3027 - val_accuracy: 0.9116\n",
            "Epoch 14/100\n",
            "469/469 [==============================] - 3s 7ms/step - loss: 0.3194 - accuracy: 0.9074 - val_loss: 0.2986 - val_accuracy: 0.9149\n",
            "Epoch 15/100\n",
            "469/469 [==============================] - 3s 7ms/step - loss: 0.3155 - accuracy: 0.9087 - val_loss: 0.2955 - val_accuracy: 0.9138\n",
            "Epoch 16/100\n",
            "469/469 [==============================] - 3s 7ms/step - loss: 0.3120 - accuracy: 0.9096 - val_loss: 0.2931 - val_accuracy: 0.9152\n",
            "Epoch 17/100\n",
            "469/469 [==============================] - 3s 7ms/step - loss: 0.3090 - accuracy: 0.9106 - val_loss: 0.2905 - val_accuracy: 0.9156\n",
            "Epoch 18/100\n",
            "469/469 [==============================] - 3s 7ms/step - loss: 0.3058 - accuracy: 0.9116 - val_loss: 0.2888 - val_accuracy: 0.9169\n",
            "Epoch 19/100\n",
            "469/469 [==============================] - 3s 7ms/step - loss: 0.3031 - accuracy: 0.9119 - val_loss: 0.2855 - val_accuracy: 0.9163\n",
            "Epoch 20/100\n",
            "469/469 [==============================] - 3s 7ms/step - loss: 0.3005 - accuracy: 0.9129 - val_loss: 0.2836 - val_accuracy: 0.9177\n",
            "Epoch 21/100\n",
            "469/469 [==============================] - 3s 7ms/step - loss: 0.2978 - accuracy: 0.9137 - val_loss: 0.2812 - val_accuracy: 0.9191\n",
            "Epoch 22/100\n",
            "469/469 [==============================] - 3s 7ms/step - loss: 0.2955 - accuracy: 0.9147 - val_loss: 0.2814 - val_accuracy: 0.9185\n",
            "Epoch 23/100\n",
            "469/469 [==============================] - 3s 7ms/step - loss: 0.2930 - accuracy: 0.9157 - val_loss: 0.2786 - val_accuracy: 0.9193\n",
            "Epoch 24/100\n",
            "469/469 [==============================] - 3s 7ms/step - loss: 0.2907 - accuracy: 0.9166 - val_loss: 0.2740 - val_accuracy: 0.9199\n",
            "Epoch 25/100\n",
            "469/469 [==============================] - 3s 7ms/step - loss: 0.2884 - accuracy: 0.9167 - val_loss: 0.2736 - val_accuracy: 0.9210\n",
            "Epoch 26/100\n",
            "469/469 [==============================] - 3s 7ms/step - loss: 0.2864 - accuracy: 0.9172 - val_loss: 0.2700 - val_accuracy: 0.9230\n",
            "Epoch 27/100\n",
            "469/469 [==============================] - 3s 7ms/step - loss: 0.2839 - accuracy: 0.9189 - val_loss: 0.2699 - val_accuracy: 0.9230\n",
            "Epoch 28/100\n",
            "469/469 [==============================] - 3s 7ms/step - loss: 0.2816 - accuracy: 0.9191 - val_loss: 0.2672 - val_accuracy: 0.9230\n",
            "Epoch 29/100\n",
            "469/469 [==============================] - 3s 7ms/step - loss: 0.2796 - accuracy: 0.9197 - val_loss: 0.2644 - val_accuracy: 0.9233\n",
            "Epoch 30/100\n",
            "469/469 [==============================] - 3s 7ms/step - loss: 0.2772 - accuracy: 0.9207 - val_loss: 0.2621 - val_accuracy: 0.9238\n",
            "Epoch 31/100\n",
            "469/469 [==============================] - 3s 7ms/step - loss: 0.2750 - accuracy: 0.9213 - val_loss: 0.2610 - val_accuracy: 0.9241\n",
            "Epoch 32/100\n",
            "469/469 [==============================] - 3s 7ms/step - loss: 0.2728 - accuracy: 0.9219 - val_loss: 0.2602 - val_accuracy: 0.9257\n",
            "Epoch 33/100\n",
            "469/469 [==============================] - 3s 7ms/step - loss: 0.2707 - accuracy: 0.9221 - val_loss: 0.2573 - val_accuracy: 0.9262\n",
            "Epoch 34/100\n",
            "469/469 [==============================] - 3s 7ms/step - loss: 0.2683 - accuracy: 0.9228 - val_loss: 0.2548 - val_accuracy: 0.9268\n",
            "Epoch 35/100\n",
            "469/469 [==============================] - 3s 7ms/step - loss: 0.2661 - accuracy: 0.9237 - val_loss: 0.2533 - val_accuracy: 0.9278\n",
            "Epoch 36/100\n",
            "469/469 [==============================] - 3s 7ms/step - loss: 0.2638 - accuracy: 0.9245 - val_loss: 0.2528 - val_accuracy: 0.9276\n",
            "Epoch 37/100\n",
            "469/469 [==============================] - 3s 7ms/step - loss: 0.2615 - accuracy: 0.9253 - val_loss: 0.2478 - val_accuracy: 0.9280\n",
            "Epoch 38/100\n",
            "469/469 [==============================] - 3s 7ms/step - loss: 0.2591 - accuracy: 0.9259 - val_loss: 0.2461 - val_accuracy: 0.9292\n",
            "Epoch 39/100\n",
            "469/469 [==============================] - 3s 7ms/step - loss: 0.2570 - accuracy: 0.9269 - val_loss: 0.2455 - val_accuracy: 0.9302\n",
            "Epoch 40/100\n",
            "469/469 [==============================] - 3s 7ms/step - loss: 0.2545 - accuracy: 0.9273 - val_loss: 0.2430 - val_accuracy: 0.9299\n",
            "Epoch 41/100\n",
            "469/469 [==============================] - 3s 7ms/step - loss: 0.2521 - accuracy: 0.9280 - val_loss: 0.2402 - val_accuracy: 0.9311\n",
            "Epoch 42/100\n",
            "469/469 [==============================] - 3s 7ms/step - loss: 0.2494 - accuracy: 0.9289 - val_loss: 0.2392 - val_accuracy: 0.9302\n",
            "Epoch 43/100\n",
            "469/469 [==============================] - 3s 7ms/step - loss: 0.2472 - accuracy: 0.9296 - val_loss: 0.2350 - val_accuracy: 0.9327\n",
            "Epoch 44/100\n",
            "469/469 [==============================] - 3s 7ms/step - loss: 0.2446 - accuracy: 0.9307 - val_loss: 0.2333 - val_accuracy: 0.9339\n",
            "Epoch 45/100\n",
            "469/469 [==============================] - 3s 7ms/step - loss: 0.2423 - accuracy: 0.9316 - val_loss: 0.2328 - val_accuracy: 0.9342\n",
            "Epoch 46/100\n",
            "469/469 [==============================] - 3s 7ms/step - loss: 0.2395 - accuracy: 0.9316 - val_loss: 0.2296 - val_accuracy: 0.9347\n",
            "Epoch 47/100\n",
            "469/469 [==============================] - 3s 7ms/step - loss: 0.2371 - accuracy: 0.9327 - val_loss: 0.2266 - val_accuracy: 0.9353\n",
            "Epoch 48/100\n",
            "469/469 [==============================] - 3s 7ms/step - loss: 0.2347 - accuracy: 0.9337 - val_loss: 0.2258 - val_accuracy: 0.9360\n",
            "Epoch 49/100\n",
            "469/469 [==============================] - 3s 7ms/step - loss: 0.2320 - accuracy: 0.9348 - val_loss: 0.2215 - val_accuracy: 0.9362\n",
            "Epoch 50/100\n",
            "469/469 [==============================] - 3s 7ms/step - loss: 0.2295 - accuracy: 0.9351 - val_loss: 0.2189 - val_accuracy: 0.9360\n",
            "Epoch 51/100\n",
            "469/469 [==============================] - 3s 7ms/step - loss: 0.2266 - accuracy: 0.9360 - val_loss: 0.2162 - val_accuracy: 0.9372\n",
            "Epoch 52/100\n",
            "469/469 [==============================] - 3s 7ms/step - loss: 0.2240 - accuracy: 0.9368 - val_loss: 0.2153 - val_accuracy: 0.9386\n",
            "Epoch 53/100\n",
            "469/469 [==============================] - 3s 7ms/step - loss: 0.2212 - accuracy: 0.9376 - val_loss: 0.2100 - val_accuracy: 0.9399\n",
            "Epoch 54/100\n",
            "469/469 [==============================] - 3s 7ms/step - loss: 0.2185 - accuracy: 0.9380 - val_loss: 0.2090 - val_accuracy: 0.9414\n",
            "Epoch 55/100\n",
            "469/469 [==============================] - 3s 7ms/step - loss: 0.2157 - accuracy: 0.9390 - val_loss: 0.2062 - val_accuracy: 0.9408\n",
            "Epoch 56/100\n",
            "469/469 [==============================] - 3s 7ms/step - loss: 0.2132 - accuracy: 0.9399 - val_loss: 0.2033 - val_accuracy: 0.9415\n",
            "Epoch 57/100\n",
            "469/469 [==============================] - 4s 8ms/step - loss: 0.2104 - accuracy: 0.9407 - val_loss: 0.1998 - val_accuracy: 0.9436\n",
            "Epoch 58/100\n",
            "469/469 [==============================] - 3s 7ms/step - loss: 0.2076 - accuracy: 0.9415 - val_loss: 0.1999 - val_accuracy: 0.9439\n",
            "Epoch 59/100\n",
            "469/469 [==============================] - 3s 7ms/step - loss: 0.2049 - accuracy: 0.9422 - val_loss: 0.1947 - val_accuracy: 0.9444\n",
            "Epoch 60/100\n",
            "469/469 [==============================] - 3s 7ms/step - loss: 0.2021 - accuracy: 0.9427 - val_loss: 0.1930 - val_accuracy: 0.9467\n",
            "Epoch 61/100\n",
            "469/469 [==============================] - 3s 7ms/step - loss: 0.1992 - accuracy: 0.9436 - val_loss: 0.1911 - val_accuracy: 0.9442\n",
            "Epoch 62/100\n",
            "469/469 [==============================] - 3s 7ms/step - loss: 0.1964 - accuracy: 0.9443 - val_loss: 0.1872 - val_accuracy: 0.9446\n",
            "Epoch 63/100\n",
            "469/469 [==============================] - 3s 7ms/step - loss: 0.1938 - accuracy: 0.9456 - val_loss: 0.1834 - val_accuracy: 0.9486\n",
            "Epoch 64/100\n",
            "469/469 [==============================] - 3s 7ms/step - loss: 0.1910 - accuracy: 0.9463 - val_loss: 0.1846 - val_accuracy: 0.9464\n",
            "Epoch 65/100\n",
            "469/469 [==============================] - 3s 7ms/step - loss: 0.1881 - accuracy: 0.9473 - val_loss: 0.1808 - val_accuracy: 0.9485\n",
            "Epoch 66/100\n",
            "469/469 [==============================] - 3s 7ms/step - loss: 0.1856 - accuracy: 0.9479 - val_loss: 0.1767 - val_accuracy: 0.9502\n",
            "Epoch 67/100\n",
            "469/469 [==============================] - 3s 7ms/step - loss: 0.1827 - accuracy: 0.9489 - val_loss: 0.1738 - val_accuracy: 0.9508\n",
            "Epoch 68/100\n",
            "469/469 [==============================] - 3s 7ms/step - loss: 0.1802 - accuracy: 0.9495 - val_loss: 0.1721 - val_accuracy: 0.9518\n",
            "Epoch 69/100\n",
            "469/469 [==============================] - 3s 7ms/step - loss: 0.1775 - accuracy: 0.9503 - val_loss: 0.1680 - val_accuracy: 0.9528\n",
            "Epoch 70/100\n",
            "469/469 [==============================] - 3s 7ms/step - loss: 0.1748 - accuracy: 0.9510 - val_loss: 0.1656 - val_accuracy: 0.9537\n",
            "Epoch 71/100\n",
            "469/469 [==============================] - 3s 7ms/step - loss: 0.1722 - accuracy: 0.9520 - val_loss: 0.1644 - val_accuracy: 0.9529\n",
            "Epoch 72/100\n",
            "469/469 [==============================] - 3s 7ms/step - loss: 0.1697 - accuracy: 0.9529 - val_loss: 0.1598 - val_accuracy: 0.9556\n",
            "Epoch 73/100\n",
            "469/469 [==============================] - 3s 7ms/step - loss: 0.1673 - accuracy: 0.9536 - val_loss: 0.1588 - val_accuracy: 0.9554\n",
            "Epoch 74/100\n",
            "469/469 [==============================] - 3s 7ms/step - loss: 0.1645 - accuracy: 0.9544 - val_loss: 0.1567 - val_accuracy: 0.9560\n",
            "Epoch 75/100\n",
            "469/469 [==============================] - 3s 7ms/step - loss: 0.1621 - accuracy: 0.9550 - val_loss: 0.1532 - val_accuracy: 0.9576\n",
            "Epoch 76/100\n",
            "469/469 [==============================] - 3s 7ms/step - loss: 0.1597 - accuracy: 0.9556 - val_loss: 0.1516 - val_accuracy: 0.9574\n",
            "Epoch 77/100\n",
            "469/469 [==============================] - 3s 7ms/step - loss: 0.1572 - accuracy: 0.9567 - val_loss: 0.1491 - val_accuracy: 0.9594\n",
            "Epoch 78/100\n",
            "469/469 [==============================] - 4s 8ms/step - loss: 0.1549 - accuracy: 0.9572 - val_loss: 0.1464 - val_accuracy: 0.9595\n",
            "Epoch 79/100\n",
            "469/469 [==============================] - 3s 7ms/step - loss: 0.1526 - accuracy: 0.9578 - val_loss: 0.1467 - val_accuracy: 0.9600\n",
            "Epoch 80/100\n",
            "469/469 [==============================] - 3s 7ms/step - loss: 0.1502 - accuracy: 0.9589 - val_loss: 0.1430 - val_accuracy: 0.9607\n",
            "Epoch 81/100\n",
            "469/469 [==============================] - 3s 7ms/step - loss: 0.1481 - accuracy: 0.9595 - val_loss: 0.1403 - val_accuracy: 0.9613\n",
            "Epoch 82/100\n",
            "469/469 [==============================] - 3s 7ms/step - loss: 0.1460 - accuracy: 0.9601 - val_loss: 0.1378 - val_accuracy: 0.9623\n",
            "Epoch 83/100\n",
            "469/469 [==============================] - 3s 7ms/step - loss: 0.1438 - accuracy: 0.9604 - val_loss: 0.1366 - val_accuracy: 0.9629\n",
            "Epoch 84/100\n",
            "469/469 [==============================] - 3s 7ms/step - loss: 0.1419 - accuracy: 0.9608 - val_loss: 0.1335 - val_accuracy: 0.9627\n",
            "Epoch 85/100\n",
            "469/469 [==============================] - 3s 7ms/step - loss: 0.1398 - accuracy: 0.9620 - val_loss: 0.1325 - val_accuracy: 0.9629\n",
            "Epoch 86/100\n",
            "469/469 [==============================] - 3s 7ms/step - loss: 0.1377 - accuracy: 0.9625 - val_loss: 0.1305 - val_accuracy: 0.9642\n",
            "Epoch 87/100\n",
            "469/469 [==============================] - 3s 7ms/step - loss: 0.1358 - accuracy: 0.9628 - val_loss: 0.1270 - val_accuracy: 0.9650\n",
            "Epoch 88/100\n",
            "469/469 [==============================] - 3s 7ms/step - loss: 0.1339 - accuracy: 0.9628 - val_loss: 0.1259 - val_accuracy: 0.9652\n",
            "Epoch 89/100\n",
            "469/469 [==============================] - 3s 7ms/step - loss: 0.1319 - accuracy: 0.9638 - val_loss: 0.1245 - val_accuracy: 0.9661\n",
            "Epoch 90/100\n",
            "469/469 [==============================] - 3s 7ms/step - loss: 0.1302 - accuracy: 0.9645 - val_loss: 0.1229 - val_accuracy: 0.9661\n",
            "Epoch 91/100\n",
            "469/469 [==============================] - 3s 7ms/step - loss: 0.1285 - accuracy: 0.9649 - val_loss: 0.1211 - val_accuracy: 0.9665\n",
            "Epoch 92/100\n",
            "469/469 [==============================] - 3s 7ms/step - loss: 0.1268 - accuracy: 0.9650 - val_loss: 0.1190 - val_accuracy: 0.9680\n",
            "Epoch 93/100\n",
            "469/469 [==============================] - 3s 7ms/step - loss: 0.1251 - accuracy: 0.9659 - val_loss: 0.1172 - val_accuracy: 0.9678\n",
            "Epoch 94/100\n",
            "469/469 [==============================] - 3s 7ms/step - loss: 0.1234 - accuracy: 0.9664 - val_loss: 0.1175 - val_accuracy: 0.9682\n",
            "Epoch 95/100\n",
            "469/469 [==============================] - 4s 8ms/step - loss: 0.1219 - accuracy: 0.9672 - val_loss: 0.1148 - val_accuracy: 0.9688\n",
            "Epoch 96/100\n",
            "469/469 [==============================] - 3s 7ms/step - loss: 0.1202 - accuracy: 0.9676 - val_loss: 0.1133 - val_accuracy: 0.9693\n",
            "Epoch 97/100\n",
            "469/469 [==============================] - 3s 7ms/step - loss: 0.1187 - accuracy: 0.9679 - val_loss: 0.1116 - val_accuracy: 0.9699\n",
            "Epoch 98/100\n",
            "469/469 [==============================] - 3s 7ms/step - loss: 0.1172 - accuracy: 0.9682 - val_loss: 0.1115 - val_accuracy: 0.9694\n",
            "Epoch 99/100\n",
            "469/469 [==============================] - 3s 7ms/step - loss: 0.1159 - accuracy: 0.9689 - val_loss: 0.1088 - val_accuracy: 0.9703\n",
            "Epoch 100/100\n",
            "469/469 [==============================] - 3s 7ms/step - loss: 0.1146 - accuracy: 0.9689 - val_loss: 0.1076 - val_accuracy: 0.9694\n",
            "Test_loss:  0.10762393474578857\n",
            "Test_accuracy:  0.9693999886512756\n"
          ]
        }
      ]
    },
    {
      "cell_type": "code",
      "source": [],
      "metadata": {
        "id": "4s8GgqChcNx2"
      },
      "execution_count": null,
      "outputs": []
    },
    {
      "cell_type": "code",
      "source": [
        "import matplotlib.pyplot as plt\n",
        "history_dict = history.history\n",
        "loss_values = history_dict['loss']\n",
        "val_loss_values = history_dict['val_loss']\n",
        "epochs = range(1, len(loss_values)+1)\n",
        "line1 = plt.plot(epochs, val_loss_values,  label = 'validation/Test Loss')\n",
        "line2 = plt.plot(epochs, loss_values, label = 'Training Loss')\n",
        "plt.setp(line1 , linewidth = 2.0, marker = '+', markersize = 10.0)\n",
        "plt.setp(line2 , linewidth =  2.0, marker = '4', markersize = 10.0)\n",
        "plt.xlabel('Epochs')\n",
        "plt.ylabel('Loss')\n",
        "plt.grid(True)\n",
        "plt.legend()\n",
        "plt.show()\n"
      ],
      "metadata": {
        "colab": {
          "base_uri": "https://localhost:8080/",
          "height": 449
        },
        "id": "WGq1aDJlwYKM",
        "outputId": "e087d2a1-98d8-4c4c-b3e2-cf954a3a2757"
      },
      "execution_count": null,
      "outputs": [
        {
          "output_type": "display_data",
          "data": {
            "text/plain": [
              "<Figure size 640x480 with 1 Axes>"
            ],
            "image/png": "[encoded data removed]"
          },
          "metadata": {}
        }
      ]
    },
    {
      "cell_type": "code",
      "source": [
        "history_dict = history.history\n",
        "history_dict"
      ],
      "metadata": {
        "colab": {
          "base_uri": "https://localhost:8080/"
        },
        "id": "C8D06EbWzKwi",
        "outputId": "f277f10f-bddc-4393-9835-31b4c51f2adc"
      },
      "execution_count": null,
      "outputs": [
        {
          "output_type": "execute_result",
          "data": {
            "text/plain": [
              "{'loss': [2.193573236465454,\n",
              "  1.5771706104278564,\n",
              "  0.7193304896354675,\n",
              "  0.49114853143692017,\n",
              "  0.4217337965965271,\n",
              "  0.38894593715667725,\n",
              "  0.36960774660110474,\n",
              "  0.3565300405025482,\n",
              "  0.3468877375125885,\n",
              "  0.3394624590873718,\n",
              "  0.3332463502883911,\n",
              "  0.3278442919254303,\n",
              "  0.32326188683509827,\n",
              "  0.3193598687648773,\n",
              "  0.3155363202095032,\n",
              "  0.31200140714645386,\n",
              "  0.3089606761932373,\n",
              "  0.30579596757888794,\n",
              "  0.3031366467475891,\n",
              "  0.3005231022834778,\n",
              "  0.2978091835975647,\n",
              "  0.295509397983551,\n",
              "  0.2930389642715454,\n",
              "  0.29069769382476807,\n",
              "  0.2884284555912018,\n",
              "  0.28637441992759705,\n",
              "  0.2838938236236572,\n",
              "  0.2816053628921509,\n",
              "  0.2795993387699127,\n",
              "  0.2772347629070282,\n",
              "  0.2749502956867218,\n",
              "  0.2727605402469635,\n",
              "  0.2707326412200928,\n",
              "  0.2683360278606415,\n",
              "  0.26607128977775574,\n",
              "  0.2637905776500702,\n",
              "  0.26153573393821716,\n",
              "  0.25909826159477234,\n",
              "  0.25698405504226685,\n",
              "  0.25445932149887085,\n",
              "  0.25208938121795654,\n",
              "  0.24943408370018005,\n",
              "  0.24717320501804352,\n",
              "  0.2445654273033142,\n",
              "  0.24233019351959229,\n",
              "  0.23951110243797302,\n",
              "  0.23707535862922668,\n",
              "  0.23465852439403534,\n",
              "  0.23198041319847107,\n",
              "  0.2295113056898117,\n",
              "  0.2265644073486328,\n",
              "  0.2240295708179474,\n",
              "  0.22124893963336945,\n",
              "  0.21854452788829803,\n",
              "  0.21573355793952942,\n",
              "  0.21320608258247375,\n",
              "  0.21040770411491394,\n",
              "  0.20764172077178955,\n",
              "  0.20489870011806488,\n",
              "  0.2021140307188034,\n",
              "  0.1991824209690094,\n",
              "  0.19639378786087036,\n",
              "  0.19376327097415924,\n",
              "  0.1909629851579666,\n",
              "  0.18805085122585297,\n",
              "  0.18555383384227753,\n",
              "  0.18273358047008514,\n",
              "  0.18019281327724457,\n",
              "  0.1774536669254303,\n",
              "  0.17475266754627228,\n",
              "  0.17219802737236023,\n",
              "  0.16969631612300873,\n",
              "  0.16734188795089722,\n",
              "  0.16454192996025085,\n",
              "  0.16211199760437012,\n",
              "  0.15967527031898499,\n",
              "  0.1572219431400299,\n",
              "  0.15490926802158356,\n",
              "  0.15261492133140564,\n",
              "  0.15022017061710358,\n",
              "  0.14806172251701355,\n",
              "  0.1459648758172989,\n",
              "  0.14379939436912537,\n",
              "  0.1418514847755432,\n",
              "  0.1397964060306549,\n",
              "  0.1376771777868271,\n",
              "  0.13578057289123535,\n",
              "  0.13393354415893555,\n",
              "  0.13186252117156982,\n",
              "  0.13021427392959595,\n",
              "  0.1284867823123932,\n",
              "  0.1267695426940918,\n",
              "  0.12506504356861115,\n",
              "  0.12341658025979996,\n",
              "  0.12187177687883377,\n",
              "  0.1202143132686615,\n",
              "  0.11873433738946915,\n",
              "  0.11722081899642944,\n",
              "  0.11586060374975204,\n",
              "  0.11460132151842117],\n",
              " 'accuracy': [0.38741666078567505,\n",
              "  0.7348666787147522,\n",
              "  0.8300833106040955,\n",
              "  0.8658666610717773,\n",
              "  0.8803666830062866,\n",
              "  0.8876000046730042,\n",
              "  0.8933333158493042,\n",
              "  0.8962166905403137,\n",
              "  0.8988500237464905,\n",
              "  0.9016500115394592,\n",
              "  0.9029499888420105,\n",
              "  0.9050333499908447,\n",
              "  0.9059833288192749,\n",
              "  0.9073500037193298,\n",
              "  0.9087166786193848,\n",
              "  0.9095500111579895,\n",
              "  0.9106333255767822,\n",
              "  0.9116166830062866,\n",
              "  0.9118666648864746,\n",
              "  0.9128999710083008,\n",
              "  0.9136666655540466,\n",
              "  0.9146666526794434,\n",
              "  0.9156666398048401,\n",
              "  0.9165833592414856,\n",
              "  0.9167166948318481,\n",
              "  0.9172000288963318,\n",
              "  0.9188666939735413,\n",
              "  0.9191333055496216,\n",
              "  0.9196500182151794,\n",
              "  0.9206833243370056,\n",
              "  0.9212999939918518,\n",
              "  0.9218999743461609,\n",
              "  0.9221000075340271,\n",
              "  0.9228000044822693,\n",
              "  0.9237499833106995,\n",
              "  0.9244999885559082,\n",
              "  0.9252833127975464,\n",
              "  0.9259166717529297,\n",
              "  0.9268500208854675,\n",
              "  0.927299976348877,\n",
              "  0.9279833436012268,\n",
              "  0.9289166927337646,\n",
              "  0.9296166896820068,\n",
              "  0.9307000041007996,\n",
              "  0.9316166639328003,\n",
              "  0.9315999746322632,\n",
              "  0.9326833486557007,\n",
              "  0.9337000250816345,\n",
              "  0.9347833395004272,\n",
              "  0.9350500106811523,\n",
              "  0.9359833598136902,\n",
              "  0.9367666840553284,\n",
              "  0.9375500082969666,\n",
              "  0.9379500150680542,\n",
              "  0.9390333294868469,\n",
              "  0.9399333596229553,\n",
              "  0.9407333135604858,\n",
              "  0.941516637802124,\n",
              "  0.9422000050544739,\n",
              "  0.9427000284194946,\n",
              "  0.9435833096504211,\n",
              "  0.9443166851997375,\n",
              "  0.9455500245094299,\n",
              "  0.9462666511535645,\n",
              "  0.9472833275794983,\n",
              "  0.9479333162307739,\n",
              "  0.9488666653633118,\n",
              "  0.9494666457176208,\n",
              "  0.9503499865531921,\n",
              "  0.9510166645050049,\n",
              "  0.9519833326339722,\n",
              "  0.95291668176651,\n",
              "  0.9535999894142151,\n",
              "  0.9544000029563904,\n",
              "  0.9550166726112366,\n",
              "  0.9556333422660828,\n",
              "  0.9566666483879089,\n",
              "  0.9571999907493591,\n",
              "  0.9578499794006348,\n",
              "  0.9588500261306763,\n",
              "  0.9595166444778442,\n",
              "  0.9600666761398315,\n",
              "  0.9604166746139526,\n",
              "  0.9607999920845032,\n",
              "  0.961983323097229,\n",
              "  0.9625333547592163,\n",
              "  0.9628000259399414,\n",
              "  0.9628166556358337,\n",
              "  0.963783323764801,\n",
              "  0.9644500017166138,\n",
              "  0.9648666381835938,\n",
              "  0.9650499820709229,\n",
              "  0.9659000039100647,\n",
              "  0.9663833379745483,\n",
              "  0.9672166705131531,\n",
              "  0.9675833582878113,\n",
              "  0.9678666591644287,\n",
              "  0.9681666493415833,\n",
              "  0.9688500165939331,\n",
              "  0.9689499735832214],\n",
              " 'val_loss': [2.027601957321167,\n",
              "  0.9844150543212891,\n",
              "  0.5278163552284241,\n",
              "  0.42192479968070984,\n",
              "  0.3769921660423279,\n",
              "  0.3543846309185028,\n",
              "  0.33992478251457214,\n",
              "  0.32963985204696655,\n",
              "  0.3221111297607422,\n",
              "  0.31775376200675964,\n",
              "  0.3093101680278778,\n",
              "  0.30628541111946106,\n",
              "  0.3026787340641022,\n",
              "  0.2986146807670593,\n",
              "  0.29545658826828003,\n",
              "  0.29310232400894165,\n",
              "  0.2905415892601013,\n",
              "  0.28880077600479126,\n",
              "  0.285537451505661,\n",
              "  0.2836059033870697,\n",
              "  0.28119856119155884,\n",
              "  0.2814173698425293,\n",
              "  0.2785899043083191,\n",
              "  0.2739591896533966,\n",
              "  0.27356573939323425,\n",
              "  0.270020067691803,\n",
              "  0.2699250876903534,\n",
              "  0.26723960041999817,\n",
              "  0.2643948793411255,\n",
              "  0.26211854815483093,\n",
              "  0.26100555062294006,\n",
              "  0.26020562648773193,\n",
              "  0.25725871324539185,\n",
              "  0.254794716835022,\n",
              "  0.25327545404434204,\n",
              "  0.25279340147972107,\n",
              "  0.24782295525074005,\n",
              "  0.24607974290847778,\n",
              "  0.24552343785762787,\n",
              "  0.2430419623851776,\n",
              "  0.24017548561096191,\n",
              "  0.2392447292804718,\n",
              "  0.23495690524578094,\n",
              "  0.23331579566001892,\n",
              "  0.23283156752586365,\n",
              "  0.22958867251873016,\n",
              "  0.22661547362804413,\n",
              "  0.2258429229259491,\n",
              "  0.22154824435710907,\n",
              "  0.2189236283302307,\n",
              "  0.2161930650472641,\n",
              "  0.21532678604125977,\n",
              "  0.21002140641212463,\n",
              "  0.2089783251285553,\n",
              "  0.20623499155044556,\n",
              "  0.2033030092716217,\n",
              "  0.19979648292064667,\n",
              "  0.19994044303894043,\n",
              "  0.19471123814582825,\n",
              "  0.19300711154937744,\n",
              "  0.19113972783088684,\n",
              "  0.1871853619813919,\n",
              "  0.18338508903980255,\n",
              "  0.1846313625574112,\n",
              "  0.18075335025787354,\n",
              "  0.17674745619297028,\n",
              "  0.17381134629249573,\n",
              "  0.1720609962940216,\n",
              "  0.1679787039756775,\n",
              "  0.16559848189353943,\n",
              "  0.16442178189754486,\n",
              "  0.1598193645477295,\n",
              "  0.1588163822889328,\n",
              "  0.1567256897687912,\n",
              "  0.15322890877723694,\n",
              "  0.15162917971611023,\n",
              "  0.14906607568264008,\n",
              "  0.14643095433712006,\n",
              "  0.14668801426887512,\n",
              "  0.14299504458904266,\n",
              "  0.14027082920074463,\n",
              "  0.1378430873155594,\n",
              "  0.13656297326087952,\n",
              "  0.13347233831882477,\n",
              "  0.13253670930862427,\n",
              "  0.13046956062316895,\n",
              "  0.12700994312763214,\n",
              "  0.1258896440267563,\n",
              "  0.12446978688240051,\n",
              "  0.12285417318344116,\n",
              "  0.12112212181091309,\n",
              "  0.11895858496427536,\n",
              "  0.11720015853643417,\n",
              "  0.11749880015850067,\n",
              "  0.11478342115879059,\n",
              "  0.11326149851083755,\n",
              "  0.1115720123052597,\n",
              "  0.1115245372056961,\n",
              "  0.10879182070493698,\n",
              "  0.10762396454811096],\n",
              " 'val_accuracy': [0.6492999792098999,\n",
              "  0.8113999962806702,\n",
              "  0.8629999756813049,\n",
              "  0.8838000297546387,\n",
              "  0.8942000269889832,\n",
              "  0.9014999866485596,\n",
              "  0.9053999781608582,\n",
              "  0.9077000021934509,\n",
              "  0.9086999893188477,\n",
              "  0.9090999960899353,\n",
              "  0.9120000004768372,\n",
              "  0.9111999869346619,\n",
              "  0.9115999937057495,\n",
              "  0.914900004863739,\n",
              "  0.9138000011444092,\n",
              "  0.9151999950408936,\n",
              "  0.9156000018119812,\n",
              "  0.9168999791145325,\n",
              "  0.9162999987602234,\n",
              "  0.9176999926567078,\n",
              "  0.9190999865531921,\n",
              "  0.9185000061988831,\n",
              "  0.9193000197410583,\n",
              "  0.9199000000953674,\n",
              "  0.9210000038146973,\n",
              "  0.9229999780654907,\n",
              "  0.9229999780654907,\n",
              "  0.9229999780654907,\n",
              "  0.92330002784729,\n",
              "  0.923799991607666,\n",
              "  0.9240999817848206,\n",
              "  0.9257000088691711,\n",
              "  0.9261999726295471,\n",
              "  0.926800012588501,\n",
              "  0.9277999997138977,\n",
              "  0.9276000261306763,\n",
              "  0.9279999732971191,\n",
              "  0.9291999936103821,\n",
              "  0.9301999807357788,\n",
              "  0.9298999905586243,\n",
              "  0.9311000108718872,\n",
              "  0.9301999807357788,\n",
              "  0.932699978351593,\n",
              "  0.933899998664856,\n",
              "  0.9341999888420105,\n",
              "  0.9347000122070312,\n",
              "  0.9352999925613403,\n",
              "  0.9359999895095825,\n",
              "  0.9362000226974487,\n",
              "  0.9359999895095825,\n",
              "  0.9372000098228455,\n",
              "  0.9386000037193298,\n",
              "  0.9398999810218811,\n",
              "  0.9413999915122986,\n",
              "  0.9408000111579895,\n",
              "  0.9415000081062317,\n",
              "  0.9435999989509583,\n",
              "  0.9438999891281128,\n",
              "  0.9444000124931335,\n",
              "  0.9466999769210815,\n",
              "  0.9441999793052673,\n",
              "  0.944599986076355,\n",
              "  0.9485999941825867,\n",
              "  0.946399986743927,\n",
              "  0.9484999775886536,\n",
              "  0.9502000212669373,\n",
              "  0.9508000016212463,\n",
              "  0.9517999887466431,\n",
              "  0.9527999758720398,\n",
              "  0.9537000060081482,\n",
              "  0.9528999924659729,\n",
              "  0.9556000232696533,\n",
              "  0.9553999900817871,\n",
              "  0.9559999704360962,\n",
              "  0.9575999975204468,\n",
              "  0.9574000239372253,\n",
              "  0.9593999981880188,\n",
              "  0.9595000147819519,\n",
              "  0.9599999785423279,\n",
              "  0.9606999754905701,\n",
              "  0.9613000154495239,\n",
              "  0.9623000025749207,\n",
              "  0.9628999829292297,\n",
              "  0.9627000093460083,\n",
              "  0.9628999829292297,\n",
              "  0.9642000198364258,\n",
              "  0.9649999737739563,\n",
              "  0.9652000069618225,\n",
              "  0.9660999774932861,\n",
              "  0.9660999774932861,\n",
              "  0.9664999842643738,\n",
              "  0.9679999947547913,\n",
              "  0.9678000211715698,\n",
              "  0.9682000279426575,\n",
              "  0.9688000082969666,\n",
              "  0.9692999720573425,\n",
              "  0.9699000120162964,\n",
              "  0.9693999886512756,\n",
              "  0.970300018787384,\n",
              "  0.9693999886512756]}"
            ]
          },
          "metadata": {},
          "execution_count": 21
        }
      ]
    },
    {
      "cell_type": "code",
      "source": [
        "history_dict = history.history\n",
        "accuracy_values = history_dict['accuracy']\n",
        "val_accuracy_values = history_dict['val_accuracy']\n",
        "epochs = range(1, len(loss_values)+1)\n",
        "line1 = plt.plot(epochs, val_accuracy_values,  label = 'validation/Test accuracy')\n",
        "line2 = plt.plot(epochs, accuracy_values, label = 'Training accuracy')\n",
        "plt.setp(line1 , linewidth = 2.0, marker = '+', markersize = 10.0)\n",
        "plt.setp(line2 , linewidth =  2.0, marker = '4', markersize = 10.0)\n",
        "plt.xlabel('Epochs')\n",
        "plt.ylabel('Loss')\n",
        "plt.grid(True)\n",
        "plt.legend()\n",
        "plt.show()\n"
      ],
      "metadata": {
        "colab": {
          "base_uri": "https://localhost:8080/",
          "height": 449
        },
        "id": "izjNl__q0drG",
        "outputId": "98b77663-d7c7-4691-8f86-35b1c52a12de"
      },
      "execution_count": null,
      "outputs": [
        {
          "output_type": "display_data",
          "data": {
            "text/plain": [
              "<Figure size 640x480 with 1 Axes>"
            ],
            "image/png": "[encoded data removed]"
          },
          "metadata": {}
        }
      ]
    },
    {
      "cell_type": "code",
      "source": [
        "model.save('mnist.h5')"
      ],
      "metadata": {
        "id": "t6hhAzc01sGR"
      },
      "execution_count": null,
      "outputs": []
    },
    {
      "cell_type": "code",
      "source": [
        "# using the model to predict the results"
      ],
      "metadata": {
        "id": "wikAGHJ412E2"
      },
      "execution_count": null,
      "outputs": []
    },
    {
      "cell_type": "code",
      "source": [
        "from tensorflow.keras.models import load_model\n",
        "classifier = load_model('/content/mnist.h5')"
      ],
      "metadata": {
        "id": "8vN2qedf2Qhm"
      },
      "execution_count": null,
      "outputs": []
    },
    {
      "cell_type": "code",
      "source": [],
      "metadata": {
        "id": "zEbcwWt62k_1"
      },
      "execution_count": null,
      "outputs": []
    }
  ]
}